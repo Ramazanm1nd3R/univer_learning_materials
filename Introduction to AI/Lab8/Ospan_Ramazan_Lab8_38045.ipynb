{
  "cells": [
    {
      "cell_type": "code",
      "execution_count": null,
      "metadata": {
        "id": "1Pu9n-65umKy"
      },
      "outputs": [],
      "source": [
        "import re\n",
        "import requests\n",
        "from razdel import sentenize, tokenize\n",
        "from nltk.stem import WordNetLemmatizer, PorterStemmer\n",
        "from nltk.stem.snowball import SnowballStemmer"
      ]
    },
    {
      "cell_type": "code",
      "execution_count": null,
      "metadata": {
        "colab": {
          "base_uri": "https://localhost:8080/"
        },
        "id": "BPSjHdK6zxfa",
        "outputId": "5c5717f3-c6f7-407c-dcb1-bdf913a8cad1"
      },
      "outputs": [
        {
          "name": "stdout",
          "output_type": "stream",
          "text": [
            "Requirement already satisfied: razdel in /usr/local/lib/python3.10/dist-packages (0.5.0)\n"
          ]
        }
      ],
      "source": [
        "pip install razdel"
      ]
    },
    {
      "cell_type": "code",
      "execution_count": null,
      "metadata": {
        "id": "3xO4LDAA-vxP"
      },
      "outputs": [],
      "source": [
        "pip install language_tool_python"
      ]
    },
    {
      "cell_type": "markdown",
      "metadata": {
        "id": "cjkayZNyx-fL"
      },
      "source": [
        "*фреймворки*"
      ]
    },
    {
      "cell_type": "markdown",
      "metadata": {
        "id": "WoBFMg8hX4X1"
      },
      "source": [
        "# *Задание 1*"
      ]
    },
    {
      "cell_type": "code",
      "execution_count": null,
      "metadata": {
        "id": "bJeeZAavirhD"
      },
      "outputs": [],
      "source": [
        "text = \"\"\"\n",
        "Вчера-был просто супер 😊! Проехал 100/160 км, чтобы встре-титься со своим другом. Эго имяАсхат А.Н. ему24г.Это было невероятно круто!Обсуждали все, от программирования-до политики, 2-3часа иливечность за обедом в суши-баре, ХАХА 😂. Потом посмотрели фильмФОрест Г.в кино и заговорили о трендах на рынке и экономических влияниях.Погода? Началось все с  🌞, но вдруг пошел  🌧️. Перед отъездом зашел в уютное кафе за чашкой ☕, очень уютно.\n",
        "\"\"\""
      ]
    },
    {
      "cell_type": "code",
      "execution_count": null,
      "metadata": {
        "id": "j_z8-AzMik20"
      },
      "outputs": [],
      "source": [
        "# Словарь для замены эмодзи\n",
        "emoji_dict = {\n",
        "    \"😊\": \"радость\",\n",
        "    \"😂\": \"смех\",\n",
        "    \"🌞\": \"солнечно\",\n",
        "    \"🌧️\": \"дождь\",\n",
        "    \"☕\": \"кофе\"\n",
        "}"
      ]
    },
    {
      "cell_type": "markdown",
      "metadata": {
        "id": "Meq4AJFLi_Ds"
      },
      "source": [
        "*словарь с эмодзи, решил не убирать их вовсе, поскольку считаю, что они могут нести важный аспект при анализе текста, для определния тона и намерений, но опять же, сильно будет зависеть от самой задачи*"
      ]
    },
    {
      "cell_type": "code",
      "execution_count": null,
      "metadata": {
        "id": "lLz9lK7xixU2"
      },
      "outputs": [],
      "source": [
        "for emj, w in emoji_dict.items():\n",
        "    text = text.replace(emj, f'\"{w}\"')"
      ]
    },
    {
      "cell_type": "markdown",
      "metadata": {
        "id": "wSNXAA6-jST3"
      },
      "source": [
        "*приметивная перестановка текста вместо смайликов, путем прохождения по всем элементаи*"
      ]
    },
    {
      "cell_type": "code",
      "execution_count": null,
      "metadata": {
        "colab": {
          "base_uri": "https://localhost:8080/"
        },
        "id": "iDheACx4jh3y",
        "outputId": "079b9101-57f0-46ee-ef62-8e3189af1ba7"
      },
      "outputs": [
        {
          "name": "stdout",
          "output_type": "stream",
          "text": [
            "\n",
            "Вчера-был просто супер \"радость\"! Проехал 100/160 км, чтобы встре-титься со своим другом. Эго имяАсхат А.Н. ему24г.Это было невероятно круто!Обсуждали все, от программирования-до политики, 2-3часа иливечность за обедом в суши-баре, ХАХА \"смех\". Потом посмотрели фильмФОрест Г.в кино и заговорили о трендах на рынке и экономических влияниях.Погода? Началось все с  \"солнечно\", но вдруг пошел  \"дождь\". Перед отъездом зашел в уютное кафе за чашкой \"кофе\", очень уютно.\n",
            "\n"
          ]
        }
      ],
      "source": [
        "print(text)"
      ]
    },
    {
      "cell_type": "markdown",
      "metadata": {
        "id": "t_qHNNjrj0IN"
      },
      "source": [
        "*промежуточный осмотр*"
      ]
    },
    {
      "cell_type": "code",
      "execution_count": null,
      "metadata": {
        "colab": {
          "base_uri": "https://localhost:8080/"
        },
        "id": "KoN9Vb5Rj6pn",
        "outputId": "5db381be-c6af-4d09-b797-feb9133e8527"
      },
      "outputs": [
        {
          "name": "stdout",
          "output_type": "stream",
          "text": [
            "\n",
            "Вчерабыл просто супер \"радость\"! Проехал 100/160 км, чтобы встретиться со своим другом. Эго имяАсхат А.Н. ему 24 г.Это было невероятно круто!Обсуждали все, от программированиядо политики, 2-3 часа иливечность за обедом в сушибаре, ХАХА \"смех\". Потом посмотрели фильмФОрест Г.в кино и заговорили о трендах на рынке и экономических влияниях.Погода? Началось все с  \"солнечно\", но вдруг пошел  \"дождь\". Перед отъездом зашел в уютное кафе за чашкой \"кофе\", очень уютно.\n",
            "\n"
          ]
        }
      ],
      "source": [
        "text = re.sub(r\"(?<=[а-яА-Я])-\\s*(?=[а-яА-Я])\", \"\", text)\n",
        "text = re.sub(r\"([а-яА-Я]+)(\\d+)\", r\"\\1 \\2\", text) # Буквы перед цифрами\n",
        "text = re.sub(r\"(\\d+)([а-яА-Я]+)\", r\"\\1 \\2\", text) # Цифры перед буквами\n",
        "print(text)"
      ]
    },
    {
      "cell_type": "markdown",
      "metadata": {
        "id": "mWC4bKzm8gig"
      },
      "source": [
        "**ИСПРАВЛЕНИЕ**"
      ]
    },
    {
      "cell_type": "code",
      "execution_count": null,
      "metadata": {
        "colab": {
          "background_save": true,
          "base_uri": "https://localhost:8080/"
        },
        "id": "8Pw3w_tl8hzp",
        "outputId": "3f1ff029-64f7-4ab5-f297-6f74390744ce"
      },
      "outputs": [
        {
          "name": "stderr",
          "output_type": "stream",
          "text": [
            "[nltk_data] Downloading package words to /root/nltk_data...\n",
            "[nltk_data]   Package words is already up-to-date!\n",
            "[nltk_data] Downloading package punkt to /root/nltk_data...\n",
            "[nltk_data]   Package punkt is already up-to-date!\n",
            "[nltk_data] Downloading package punkt_tab to /root/nltk_data...\n",
            "[nltk_data]   Unzipping tokenizers/punkt_tab.zip.\n"
          ]
        },
        {
          "name": "stdout",
          "output_type": "stream",
          "text": [
            "Оригинальный текст:\n",
            "\n",
            "Вчерабыл просто супер \"радость\"! Проехал 100/160 км, чтобы встретиться со своим другом. Эго имяАсхат А.Н. ему 24г. Это было невероятно круто! Обсуждали все, от программированиядо политики, 2-3часа иливечность за обедом в сушибаре, ХАХА \"смех\". Потом посмотрели фильмФОрест Г.в кино и заговорили о трендах на рынке и экономических влияниях. Погода? Началось все с \"солнечно\", но вдруг пошел \"дождь\". Перед отъездом зашел в уютное кафе за чашкой \"кофе\", очень уютно.\n",
            "\n",
            "\n",
            "Исправленный текст:\n",
            "iceberg scug scug `` iceberg '' ! iceberg 100/160 Ju , scug cryalgesia Ju scug scug . fet iceberg А.Н . fet 24г . fet scug cryalgesia scug ! Momordica fet , Ju cryalgesia iceberg , 2-3часа cryalgesia Ju scug Z iceberg , scug `` scug '' . scug cryalgesia cryalgesia Г.в scug Z cryalgesia Z iceberg Ju scug Z cryalgesia iceberg . scug ? iceberg fet Z `` iceberg '' , Ju scug scug `` scug '' . scug iceberg scug Z scug scug Ju scug `` scug '' , scug scug .\n"
          ]
        }
      ],
      "source": [
        "import nltk\n",
        "from nltk.corpus import words\n",
        "from nltk.metrics import edit_distance\n",
        "from nltk.tokenize import word_tokenize\n",
        "\n",
        "# Загружаем необходимые ресурсы\n",
        "nltk.download('words')\n",
        "nltk.download('punkt')\n",
        "nltk.download('punkt_tab')\n",
        "\n",
        "# Получаем список слов из словаря NLTK\n",
        "word_list = set(words.words())\n",
        "\n",
        "def correct_word(word):\n",
        "    \"\"\"\n",
        "    Исправляет слово, если оно отсутствует в словаре.\n",
        "    Использует метрику edit_distance для нахождения наиболее вероятного исправления.\n",
        "    \"\"\"\n",
        "    # Если слово уже корректное, возвращаем его\n",
        "    if word.lower() in word_list:\n",
        "        return word\n",
        "\n",
        "    # Ищем похожие слова с помощью edit_distance\n",
        "    similar_words = sorted(word_list, key=lambda w: edit_distance(word.lower(), w))[:3]\n",
        "\n",
        "    # Возвращаем самое вероятное слово\n",
        "    if similar_words:\n",
        "        return similar_words[0]\n",
        "    return word  # Если не найдено ничего подходящего, оставляем как есть\n",
        "\n",
        "def process_text(text):\n",
        "    \"\"\"\n",
        "    Основная функция для обработки текста:\n",
        "    1. Токенизация\n",
        "    2. Исправление слов\n",
        "    \"\"\"\n",
        "    tokens = word_tokenize(text)\n",
        "    corrected_tokens = []\n",
        "\n",
        "    for token in tokens:\n",
        "        # Убираем знаки препинания отдельно, чтобы сохранить их\n",
        "        if token.isalpha():  # Только слова\n",
        "            corrected_tokens.append(correct_word(token))\n",
        "        else:\n",
        "            corrected_tokens.append(token)  # Знаки препинания оставляем как есть\n",
        "\n",
        "    # Собираем текст обратно\n",
        "    return \" \".join(corrected_tokens)\n",
        "\n",
        "# Текст для обработки\n",
        "text = \"\"\"\n",
        "Вчерабыл просто супер \"радость\"! Проехал 100/160 км, чтобы встретиться со своим другом. Эго имяАсхат А.Н. ему 24г. Это было невероятно круто! Обсуждали все, от программированиядо политики, 2-3часа иливечность за обедом в сушибаре, ХАХА \"смех\". Потом посмотрели фильмФОрест Г.в кино и заговорили о трендах на рынке и экономических влияниях. Погода? Началось все с \"солнечно\", но вдруг пошел \"дождь\". Перед отъездом зашел в уютное кафе за чашкой \"кофе\", очень уютно.\n",
        "\"\"\"\n",
        "\n",
        "# Обрабатываем текст\n",
        "corrected_text = process_text(text)\n",
        "\n",
        "# Выводим результат\n",
        "print(\"Оригинальный текст:\")\n",
        "print(text)\n",
        "print(\"\\nИсправленный текст:\")\n",
        "print(corrected_text)\n"
      ]
    },
    {
      "cell_type": "markdown",
      "metadata": {
        "id": "-J6sVzszk5h7"
      },
      "source": [
        "*сначала удаляет дефисы, дальше же определеяет, идет ли после буквы цифра и наоборот опреляет идет ли после цифры буква и при подпадании под условие ставит пробел*"
      ]
    },
    {
      "cell_type": "code",
      "execution_count": null,
      "metadata": {
        "id": "0mtzciZLltAJ"
      },
      "outputs": [],
      "source": [
        "url = \"https://speller.yandex.net/services/spellservice.json/checkText\"\n",
        "params = {\"text\": text, \"lang\": \"ru\"}\n",
        "response = requests.get(url, params=params)\n",
        "corrections = response.json()\n",
        "\n",
        "for correction in corrections:\n",
        "    incorrect_word = correction['word']\n",
        "    suggested_word = correction['s'][0]\n",
        "    text = text.replace(incorrect_word, suggested_word)"
      ]
    },
    {
      "cell_type": "code",
      "execution_count": null,
      "metadata": {
        "colab": {
          "base_uri": "https://localhost:8080/"
        },
        "id": "HhlZOBl2zSD-",
        "outputId": "4a8b10bb-62cc-4ca8-a9e5-f2a5222b44b1"
      },
      "outputs": [
        {
          "name": "stdout",
          "output_type": "stream",
          "text": [
            "{'code': 1, 'pos': 1, 'row': 1, 'col': 0, 'len': 8, 'word': 'Вчерабыл', 's': ['Вчера был', 'Вчера была']}\n",
            "{'code': 1, 'pos': 89, 'row': 1, 'col': 88, 'len': 3, 'word': 'Эго', 's': ['Его']}\n",
            "{'code': 1, 'pos': 93, 'row': 1, 'col': 92, 'len': 8, 'word': 'имяАсхат', 's': ['имя Асхат']}\n",
            "{'code': 1, 'pos': 160, 'row': 1, 'col': 159, 'len': 18, 'word': 'программированиядо', 's': ['программирования до']}\n",
            "{'code': 1, 'pos': 198, 'row': 1, 'col': 197, 'len': 11, 'word': 'иливечность', 's': ['или вечность']}\n",
            "{'code': 1, 'pos': 262, 'row': 1, 'col': 261, 'len': 11, 'word': 'фильмФОрест', 's': ['фильм ФОрест', 'фильм Форрест']}\n"
          ]
        }
      ],
      "source": [
        "for el in corrections:\n",
        "    print(el)"
      ]
    },
    {
      "cell_type": "markdown",
      "metadata": {
        "id": "G1UhYRG4mcwk"
      },
      "source": [
        "*на данном этапе, я решил воспользоваться апи от яндекс, поскольку мне показалось что засчет того что это крупная Снг компания, их вычислительных мощностей достаточно, что бы построить хорошую модель по распознаванию ошибок на родном языке*"
      ]
    },
    {
      "cell_type": "markdown",
      "metadata": {
        "id": "pL9GRxEuvoe0"
      },
      "source": []
    },
    {
      "cell_type": "markdown",
      "metadata": {
        "id": "EFUfgyv5mux8"
      },
      "source": [
        "```\n",
        "{\n",
        "    \"code\": 1,\n",
        "    \"pos\": 12,\n",
        "    \"row\": 0,\n",
        "    \"col\": 12,\n",
        "    \"len\": 7,\n",
        "    \"word\": \"вчра\",\n",
        "    \"s\": [\"вчера\"]\n",
        "}\n",
        "\n",
        "простой пример GET ответа\n",
        "```"
      ]
    },
    {
      "cell_type": "markdown",
      "metadata": {
        "id": "Six4NcYRm19Y"
      },
      "source": [
        "*это то, в каком формате мы получаем данные от апи в результате GET запроса, в дальнейшем, выбираем колонку 's', что как я понял символизирует отдел с подходящими вариантами и путем [0] выбираю первый вариант, на который в последсвтии и заменится вложенное в запрос слово*"
      ]
    },
    {
      "cell_type": "code",
      "execution_count": null,
      "metadata": {
        "colab": {
          "base_uri": "https://localhost:8080/"
        },
        "id": "E2lh40YSnSzQ",
        "outputId": "54f7c90f-6a22-4d1b-d7eb-5aadaaa23197"
      },
      "outputs": [
        {
          "name": "stdout",
          "output_type": "stream",
          "text": [
            "\n",
            "Вчера был просто супер \"радость\"! Проехал 100/160 км, чтобы встретиться со своим другом. Его имя Асхат А.Н. ему 24 г.Это было невероятно круто!Обсуждали все, от программирования до политики, 2-3 часа или вечность за обедом в сушибаре, ХАХА \"смех\". Потом посмотрели фильм ФОрест Г.в кино и заговорили о трендах на рынке и экономических влияниях.Погода? Началось все с  \"солнечно\", но вдруг пошел  \"дождь\". Перед отъездом зашел в уютное кафе за чашкой \"кофе\", очень уютно.\n",
            "\n"
          ]
        }
      ],
      "source": [
        "print(text)"
      ]
    },
    {
      "cell_type": "markdown",
      "metadata": {
        "id": "a5_uWHHVnbAY"
      },
      "source": [
        "*можем заметить, что на \"ХАХА\" он никак не риагирует и разве что лишние пробелы сотавляет, но в остальном я считаю сработал отлично*"
      ]
    },
    {
      "cell_type": "markdown",
      "metadata": {
        "id": "Os81VQERSBLU"
      },
      "source": [
        "# *Задание 2*"
      ]
    },
    {
      "cell_type": "markdown",
      "metadata": {
        "id": "6sJB-U1vzwNw"
      },
      "source": [
        "*установка необходимой библиотеки для распознавания русского, поскольку, оно не входут в пакет базовых фреймворков которые предустановлены в colab*"
      ]
    },
    {
      "cell_type": "code",
      "execution_count": null,
      "metadata": {
        "colab": {
          "base_uri": "https://localhost:8080/"
        },
        "id": "NI3i-9QWuuyU",
        "outputId": "6a66f9e7-4606-4ed7-c66f-d3734d5741f3"
      },
      "outputs": [
        {
          "name": "stdout",
          "output_type": "stream",
          "text": [
            "Введите текст для поиска: баланс cash\n",
            "Релевантные предложения:\n",
            "- The bank's ATM network provides convenient access to cash withdrawals and deposits.\n",
            "- Home equity lines of credit are available for homeowners needing access to cash.\n",
            "- Мобильные банковские приложения позволяют пользователям проверять свои балансы счетов на ходу.\n"
          ]
        }
      ],
      "source": [
        "# # Инициализация стеммеров\n",
        "stemmer_en = PorterStemmer()\n",
        "stemmer_ru = SnowballStemmer(\"russian\")\n",
        "\n",
        "# Функция для определения языка токена\n",
        "def detect_language_token(token):\n",
        "    if re.search(r'[а-яА-Я]', token):  # Если есть кириллица\n",
        "        return \"ru\"\n",
        "    elif re.search(r'[a-zA-Z]', token):  # Если есть латиница\n",
        "        return \"en\"\n",
        "    return \"unknown\"\n",
        "\n",
        "# Функция стемминга\n",
        "def stem_tokens(tokens):\n",
        "    stemmed_tokens = []\n",
        "    for token in tokens:\n",
        "        language = detect_language_token(token)\n",
        "        if language == \"en\":\n",
        "            stemmed_tokens.append(stemmer_en.stem(token.lower()))\n",
        "        elif language == \"ru\":\n",
        "            stemmed_tokens.append(stemmer_ru.stem(token.lower()))\n",
        "        else:\n",
        "            stemmed_tokens.append(token.lower())  # Оставляем без изменений, если язык неизвестен\n",
        "    return stemmed_tokens\n",
        "\n",
        "# Функция предобработки текста\n",
        "def preprocess_text(sentence):\n",
        "    tokens = [token.text for token in tokenize(sentence)]  # Токенизация\n",
        "    return stem_tokens(tokens)  # Стемминг\n",
        "\n",
        "# Функция поиска\n",
        "def token_based_search(query, sentences):\n",
        "    # Обрабатываем запрос (разбиваем на токены, стемминг)\n",
        "    query_tokens = preprocess_text(query)\n",
        "\n",
        "    # Список для релевантных предложений\n",
        "    relevant_sentences = []\n",
        "\n",
        "    # Обрабатываем каждое предложение\n",
        "    for sentence in sentences:\n",
        "        # Токенизация и стемминг предложения\n",
        "        sentence_tokens = preprocess_text(sentence)\n",
        "\n",
        "        # Проверяем совпадение токенов\n",
        "        for token in query_tokens:\n",
        "            if token in sentence_tokens:\n",
        "                relevant_sentences.append(sentence)\n",
        "                break  # Достаточно одного совпадения, чтобы считать предложение релевантным\n",
        "\n",
        "    return relevant_sentences\n",
        "\n",
        "# Пример использования\n",
        "banking_sentences = [\n",
        "    \"The bank offers a variety of savings accounts with different interest rates to suit individual needs.\",\n",
        "    \"Customers can easily transfer money between their accounts using the online banking platform.\",\n",
        "    \"Every month, the bank sends out statements detailing all transactions made during the billing cycle.\",\n",
        "    \"Opening a new account at the bank requires a valid ID and proof of address.\",\n",
        "    \"The bank's mobile app allows users to deposit checks by simply taking a photo with their phone.\",\n",
        "    \"Loans for purchasing homes are available with fixed or variable interest rates.\",\n",
        "    \"Credit cards from the bank come with various rewards programs, including cashback and travel points.\",\n",
        "    \"Bank employees are available to help customers understand their financial statements and plan their budgets.\",\n",
        "    \"Savings accounts can be linked to checking accounts to prevent overdraft fees.\",\n",
        "    \"The bank offers financial advice services to help customers plan for retirement.\",\n",
        "    \"Automatic bill payment services help customers avoid missing due dates for important bills.\",\n",
        "    \"Bank branches provide secure safety deposit boxes for storing valuable items.\",\n",
        "    \"Customers can apply for personal loans to cover unexpected expenses or consolidate debt.\",\n",
        "    \"Online banking allows users to set up alerts for low balances or large transactions.\",\n",
        "    \"The bank provides educational resources to help customers understand how to manage their money.\",\n",
        "    \"Customers can choose from a range of investment options, including stocks and bonds.\",\n",
        "    \"The bank has a dedicated customer service line to assist with any account-related issues.\",\n",
        "    \"Mortgage specialists are available to help first-time homebuyers navigate the process.\",\n",
        "    \"The bank's credit monitoring service alerts customers to any changes in their credit reports.\",\n",
        "    \"Customers can easily update their contact information through the bank's online portal.\",\n",
        "    \"The bank's ATM network provides convenient access to cash withdrawals and deposits.\",\n",
        "    \"Foreign currency exchange services are available for customers planning international travel.\",\n",
        "    \"The bank's fraud protection service monitors accounts for suspicious activity.\",\n",
        "    \"Customers can set spending limits on their credit cards to help manage their budgets.\",\n",
        "    \"The bank offers a range of insurance products, including health, auto, and home insurance.\",\n",
        "    \"Users can download and print monthly account statements directly from the bank's website.\",\n",
        "    \"Small business owners can access loans and lines of credit to help grow their businesses.\",\n",
        "    \"The bank provides secure online payment options for shopping on various e-commerce platforms.\",\n",
        "    \"Mobile banking apps allow users to check their account balances on the go.\",\n",
        "    \"The bank's retirement accounts offer tax advantages to help customers save for the future.\",\n",
        "    \"Financial advisors at the bank can help customers develop long-term investment strategies.\",\n",
        "    \"The bank offers low-interest loans for education and other major life expenses.\",\n",
        "    \"Customers can make international money transfers at competitive exchange rates.\",\n",
        "    \"The bank's secure online platform protects customers' personal and financial information.\",\n",
        "    \"Home equity lines of credit are available for homeowners needing access to cash.\",\n",
        "    \"The bank offers fixed-term deposits with higher interest rates for long-term savings.\",\n",
        "    \"Customers can access their account information 24/7 through the bank's mobile app.\",\n",
        "    \"The bank's customer loyalty programs offer benefits such as reduced fees and higher interest rates.\",\n",
        "    \"Parents can open savings accounts for their children to teach them about money management.\",\n",
        "    \"The bank's budgeting tools help customers track their spending and set financial goals.\",\n",
        "    \"Customers can sign up for direct deposit to have their paychecks automatically deposited.\",\n",
        "    \"The bank offers special accounts for students with no monthly fees and low minimum balances.\",\n",
        "    \"Users can schedule future payments and transfers using the bank's online banking services.\",\n",
        "    \"The bank's investment products include mutual funds and retirement accounts.\",\n",
        "    \"Customers can access financial planning services to help manage their assets and liabilities.\",\n",
        "    \"The bank provides loan calculators to help customers estimate their monthly payments.\",\n",
        "    \"Secure messaging through the bank's online platform allows customers to communicate with their advisors.\",\n",
        "    \"The bank's mobile check deposit feature makes it easy to deposit checks without visiting a branch.\",\n",
        "    \"Customers can earn rewards points for every dollar spent on their credit cards.\",\n",
        "    \"The bank offers personal finance workshops to educate customers on budgeting and saving.\",\n",
        "    \"Customers can track their spending habits using the bank's online expense tracking tools.\",\n",
        "    \"Банк предлагает разнообразные сберегательные счета с разными процентными ставками, чтобы удовлетворить индивидуальные потребности.\",\n",
        "    \"Клиенты могут легко переводить деньги между своими счетами с помощью платформы интернет-банкинга.\",\n",
        "    \"Каждый месяц банк высылает выписки с подробным описанием всех транзакций за отчетный период.\",\n",
        "    \"Открытие нового счета в банке требует действующего удостоверения личности и подтверждения адреса.\",\n",
        "    \"Мобильное приложение банка позволяет пользователям вносить чеки, просто фотографируя их на телефон.\",\n",
        "    \"Кредиты на покупку домов доступны с фиксированными или переменными процентными ставками.\",\n",
        "    \"Кредитные карты банка предлагают различные программы вознаграждений, включая кэшбэк и бонусные баллы для путешествий.\",\n",
        "    \"Сотрудники банка готовы помочь клиентам понять свои финансовые выписки и планировать бюджет.\",\n",
        "    \"Сберегательные счета могут быть связаны с текущими счетами, чтобы предотвратить комиссии за перерасход.\",\n",
        "    \"Банк предлагает услуги финансового консультирования, чтобы помочь клиентам планировать выход на пенсию.\",\n",
        "    \"Услуги автоматической оплаты счетов помогают клиентам избежать пропуска сроков оплаты важных счетов.\",\n",
        "    \"Отделения банка предоставляют безопасные ячейки для хранения ценных вещей.\",\n",
        "    \"Клиенты могут подать заявку на личные кредиты для покрытия непредвиденных расходов или консолидации долгов.\",\n",
        "    \"Интернет-банкинг позволяет пользователям устанавливать уведомления о низких остатках или крупных транзакциях.\",\n",
        "    \"Банк предоставляет образовательные ресурсы, чтобы помочь клиентам понять, как управлять своими деньгами.\",\n",
        "    \"Клиенты могут выбирать из множества инвестиционных опций, включая акции и облигации.\",\n",
        "    \"У банка есть выделенная линия обслуживания клиентов для помощи в любых вопросах, связанных со счетами.\",\n",
        "    \"Специалисты по ипотеке готовы помочь покупателям впервые купить жилье пройти этот процесс.\",\n",
        "    \"Служба мониторинга кредитов банка уведомляет клиентов о любых изменениях в их кредитных отчетах.\",\n",
        "    \"Клиенты могут легко обновить свою контактную информацию через онлайн-портал банка.\",\n",
        "    \"Сеть банкоматов банка обеспечивает удобный доступ к снятию и внесению наличных.\",\n",
        "    \"Услуги обмена иностранной валюты доступны для клиентов, планирующих международные поездки.\",\n",
        "    \"Служба защиты от мошенничества банка отслеживает счета на предмет подозрительной активности.\",\n",
        "    \"Клиенты могут устанавливать лимиты расходов по своим кредитным картам, чтобы помочь управлять бюджетом.\",\n",
        "    \"Банк предлагает разнообразные страховые продукты, включая медицинское, автомобильное и жилищное страхование.\",\n",
        "    \"Пользователи могут загружать и печатать ежемесячные выписки по счетам прямо с сайта банка.\",\n",
        "    \"Малые предприятия могут получить доступ к кредитам и кредитным линиям для роста своих бизнесов.\",\n",
        "    \"Банк предоставляет безопасные онлайн-опции оплаты для покупок на различных платформах электронной коммерции.\",\n",
        "    \"Мобильные банковские приложения позволяют пользователям проверять свои балансы счетов на ходу.\",\n",
        "    \"Пенсионные счета банка предлагают налоговые преимущества, чтобы помочь клиентам сэкономить на будущее.\",\n",
        "    \"Финансовые консультанты банка могут помочь клиентам разработать долгосрочные инвестиционные стратегии.\",\n",
        "    \"Банк предлагает кредиты с низкими процентными ставками для образования и других крупных жизненных расходов.\",\n",
        "    \"Клиенты могут осуществлять международные денежные переводы по конкурентным обменным курсам.\",\n",
        "    \"Безопасная онлайн-платформа банка защищает личную и финансовую информацию клиентов.\",\n",
        "    \"Кредитные линии под залог дома доступны для владельцев домов, нуждающихся в доступе к наличным.\",\n",
        "    \"Банк предлагает депозиты с фиксированным сроком с более высокими процентными ставками для долгосрочных сбережений.\",\n",
        "    \"Клиенты могут получать доступ к информации по счету круглосуточно через мобильное приложение банка.\",\n",
        "    \"Программы лояльности клиентов банка предлагают такие преимущества, как сниженные комиссии и повышенные процентные ставки.\",\n",
        "    \"Родители могут открыть сберегательные счета для своих детей, чтобы научить их управлению деньгами.\",\n",
        "    \"Инструменты составления бюджета банка помогают клиентам отслеживать свои расходы и устанавливать финансовые цели.\",\n",
        "    \"Клиенты могут зарегистрироваться для прямого депозита, чтобы их зарплаты автоматически зачислялись на счет.\",\n",
        "    \"Банк предлагает специальные счета для студентов без ежемесячных комиссий и с низкими минимальными остатками.\",\n",
        "    \"Пользователи могут планировать будущие платежи и переводы, используя услуги интернет-банкинга банка.\",\n",
        "    \"Инвестиционные продукты банка включают взаимные фонды и пенсионные счета.\",\n",
        "    \"Клиенты могут получить доступ к услугам финансового планирования для управления своими активами и обязательствами.\",\n",
        "    \"Банк предоставляет кредитные калькуляторы, чтобы помочь клиентам оценить их ежемесячные платежи.\",\n",
        "    \"Безопасное обмен сообщениями через онлайн-платформу банка позволяет клиентам общаться со своими консультантами.\",\n",
        "    \"Функция мобильного депозита чеков банка позволяет легко вносить чеки без посещения отделения.\",\n",
        "    \"Клиенты могут зарабатывать баллы за вознаграждение за каждый потраченный доллар на своих кредитных картах.\",\n",
        "    \"Банк предлагает семинары по личным финансам, чтобы обучить клиентов составлению бюджета и сбережениям.\",\n",
        "    \"Клиенты могут отслеживать свои привычки трат с помощью онлайн-инструментов отслеживания расходов банка.\"\n",
        "]\n",
        "\n",
        "# Запрос пользователя\n",
        "user_query = input(\"Введите текст для поиска: \")\n",
        "\n",
        "# Результат поиска\n",
        "relevant = token_based_search(user_query, banking_sentences)\n",
        "\n",
        "if relevant:\n",
        "    print(\"Релевантные предложения:\")\n",
        "    for sentence in relevant:\n",
        "        print(\"-\", sentence)\n",
        "else:\n",
        "    print(\"Иди гуляй, тут ничего нет.\")\n"
      ]
    },
    {
      "cell_type": "markdown",
      "metadata": {
        "id": "mSjVO9KeOCRm"
      },
      "source": [
        "# *Задание 3*"
      ]
    },
    {
      "cell_type": "markdown",
      "metadata": {
        "id": "Ev39YPY6aAe_"
      },
      "source": [
        "**текст сгенерирован искуственным интеллектом, в целях проверки работоспособности алгоритма** 🤚"
      ]
    },
    {
      "cell_type": "code",
      "execution_count": null,
      "metadata": {
        "colab": {
          "base_uri": "https://localhost:8080/"
        },
        "id": "qs6P50j1cdy3",
        "outputId": "70a10893-768a-4c3c-8897-6ef02fa6419b"
      },
      "outputs": [
        {
          "name": "stdout",
          "output_type": "stream",
          "text": [
            "Enter text: Этот hуй просто невероятен! Pizdец как все ахуенно. А вот этот парень какой-то м*р@зь, прямо дебил с гoвнoм в голове. Он только и делает, что пиздит и охреневает от своей тупости. На улице встретил типа, который кричал \"FUck yOu, sHiT!\", а потом начал оскорблять прохожих. Это был реально конченный ублюдок\n",
            "Оригинальный текст:\n",
            "Этот hуй просто невероятен! Pizdец как все ахуенно. А вот этот парень какой-то м*р@зь, прямо дебил с гoвнoм в голове. Он только и делает, что пиздит и охреневает от своей тупости. На улице встретил типа, который кричал \"FUck yOu, sHiT!\", а потом начал оскорблять прохожих. Это был реально конченный ублюдок\n",
            "\n",
            "Очищенный текст:\n",
            "Этот *** просто невероятен! *** как все ахуенно. А вот этот парень какой-то м*р@зь, прямо *** с *** в голове. Он только и делает, что пиздит и охреневает от своей тупости. На улице встретил типа, который кричал *** yOu, *** а потом начал оскорблять прохожих. Это был реально *** ***\n"
          ]
        }
      ],
      "source": [
        "\n",
        "# Таблица замен для похожих букв\n",
        "similar_letters = {\n",
        "    'а': ['a'], 'б': ['b'], 'в': ['v'], 'г': ['g'], 'д': ['d'], 'е': ['e'], 'ё': ['e'],\n",
        "    'ж': ['zh'], 'з': ['z'], 'и': ['i'], 'й': ['y'], 'к': ['k'], 'л': ['l'], 'м': ['m'],\n",
        "    'н': ['n'], 'о': ['o'], 'п': ['p'], 'р': ['r'], 'с': ['s', 'c', 'z'], 'т': ['t'], 'у': ['u', 'y'],\n",
        "    'ф': ['f'], 'х': ['x', 'h'], 'ц': [], 'ч': ['ch'], 'ш': ['sh'], 'щ': [], 'ъ': [], 'ы': [],\n",
        "    'ь': [], 'э': ['e'], 'ю': [], 'я': []\n",
        "}\n",
        "\n",
        "# Списки ненормативной лексики (русский + английский)\n",
        "profanity_list_ru = [\n",
        "    \"хуй\", \"пизда\", \"блядь\", \"ебать\", \"сука\", \"мудила\", \"мразь\", \"говно\", \"дерьмо\", \"пидор\",\n",
        "    \"уебок\", \"пидрила\", \"залупа\", \"гондон\", \"хуила\", \"хуесос\", \"еблан\", \"чмо\", \"дрочить\", \"манда\",\n",
        "    \"выебать\", \"трахать\", \"сосать\", \"хуйня\", \"ебучий\", \"заебал\", \"поебень\", \"уебать\", \"заебись\",\n",
        "    \"херово\", \"хуёвый\", \"обосрать\", \"охуеть\", \"пиздеть\", \"наебать\", \"охренеть\", \"похуй\", \"посрать\",\n",
        "    \"дебил\", \"идиот\", \"тупица\", \"дурак\", \"козел\", \"овца\", \"баран\", \"чурка\", \"свинья\", \"крыса\",\n",
        "    \"обезьяна\", \"урод\", \"выродок\", \"лох\", \"быдло\", \"дно\", \"шавка\", \"шваль\", \"гнида\", \"шлюха\",\n",
        "    \"ебаный\", \"тупая\", \"конченный\", \"ублюдок\", \"пиздец\", \"далбаеб\", \"еблан\", \"жопа\"\n",
        "]\n",
        "\n",
        "profanity_list_en = [\n",
        "    \"fuck\", \"shit\", \"asshole\", \"bitch\", \"dick\", \"pussy\", \"bastard\", \"faggot\", \"cunt\",\n",
        "    \"motherfucker\", \"cock\", \"slut\", \"whore\", \"douchebag\", \"prick\", \"bollocks\"\n",
        "]\n",
        "\n",
        "# Функция для замены букв во время итерации\n",
        "def normalize_word(word, similar_letters):\n",
        "    \"\"\"\n",
        "    Преобразует слово, заменяя английские/русские буквы на аналоги.\n",
        "    \"\"\"\n",
        "    normalized_word = word.lower()\n",
        "    for rus_char, eng_char_list in similar_letters.items():\n",
        "        for eng_char in eng_char_list:\n",
        "            # Заменяем буквы только для проверки\n",
        "            normalized_word = normalized_word.replace(eng_char, rus_char)\n",
        "    return normalized_word\n",
        "\n",
        "# Функция для замены матов\n",
        "def clean_profanity(text):\n",
        "    \"\"\"\n",
        "    Очищает текст от матов, проверяя слова в русском и английском словарях.\n",
        "    \"\"\"\n",
        "    words = text.split()  # Разбиваем текст на слова\n",
        "    cleaned_words = []\n",
        "\n",
        "    for word in words:\n",
        "        # Проверяем на английские маты\n",
        "        normalized_word = word.lower()\n",
        "        if any(profanity in normalized_word for profanity in profanity_list_en):\n",
        "            cleaned_words.append('***')\n",
        "            continue\n",
        "\n",
        "        # Проверяем на русские маты (после нормализации)\n",
        "        normalized_word = normalize_word(word, similar_letters)\n",
        "        if any(profanity in normalized_word for profanity in profanity_list_ru):\n",
        "            cleaned_words.append('***')\n",
        "        else:\n",
        "            cleaned_words.append(word)  # Если мат не найден, оставляем слово как есть\n",
        "\n",
        "    return ' '.join(cleaned_words)\n",
        "\n",
        "# Пример текста\n",
        "sample_text = input('Enter text: ')\n",
        "\n",
        "# Очищаем текст\n",
        "cleaned_text = clean_profanity(sample_text)\n",
        "\n",
        "print(\"Оригинальный текст:\")\n",
        "print(sample_text)\n",
        "print(\"\\nОчищенный текст:\")\n",
        "print(cleaned_text)\n"
      ]
    }
  ],
  "metadata": {
    "colab": {
      "collapsed_sections": [
        "Os81VQERSBLU",
        "mSjVO9KeOCRm"
      ],
      "provenance": []
    },
    "kernelspec": {
      "display_name": "Python 3",
      "name": "python3"
    },
    "language_info": {
      "name": "python"
    }
  },
  "nbformat": 4,
  "nbformat_minor": 0
}