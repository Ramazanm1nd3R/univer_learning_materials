{
 "cells": [
  {
   "cell_type": "code",
   "execution_count": 3,
   "metadata": {},
   "outputs": [],
   "source": []
  },
  {
   "cell_type": "markdown",
   "metadata": {},
   "source": [
    "<font size=\"12\">Sentenize</font>"
   ]
  },
  {
   "cell_type": "code",
   "execution_count": 31,
   "metadata": {},
   "outputs": [],
   "source": [
    "text_en = \"Hello! How are you? I hope you're doing well. Have a great day.\""
   ]
  },
  {
   "cell_type": "code",
   "execution_count": 32,
   "metadata": {},
   "outputs": [],
   "source": [
    "text_ru = '''\n",
    "... - \"Так в чем же дело?\" - \"Не ра-ду-ют\".\n",
    "... И т. д. и т. п. В общем, вся газета\n",
    "... '''"
   ]
  },
  {
   "cell_type": "code",
   "execution_count": 46,
   "metadata": {},
   "outputs": [
    {
     "name": "stderr",
     "output_type": "stream",
     "text": [
      "[nltk_data] Downloading package punkt to /home/sabdenoa/nltk_data...\n",
      "[nltk_data]   Package punkt is already up-to-date!\n"
     ]
    }
   ],
   "source": [
    "import nltk\n",
    "nltk.download('punkt')\n",
    "\n",
    "def nltk_sentenize(text):\n",
    "    sentences = nltk.sent_tokenize(text)\n",
    "    return sentences"
   ]
  },
  {
   "cell_type": "code",
   "execution_count": 49,
   "metadata": {},
   "outputs": [
    {
     "name": "stdout",
     "output_type": "stream",
     "text": [
      "['Hello!', 'How are you?', \"I hope you're doing well.\", 'Have a great day.']\n",
      "['\\n- \"Так в чем же дело?\"', '- \"Не ра-ду-ют\".', 'И т. д. и т. п. В общем, вся газета']\n"
     ]
    }
   ],
   "source": [
    "sentences = nltk_sentenize(text_en)\n",
    "print(sentences)\n",
    "sentences = nltk_sentenize(text_ru)\n",
    "print(sentences)"
   ]
  },
  {
   "cell_type": "code",
   "execution_count": null,
   "metadata": {},
   "outputs": [],
   "source": []
  },
  {
   "cell_type": "code",
   "execution_count": 50,
   "metadata": {},
   "outputs": [
    {
     "data": {
      "text/plain": [
       "[Substring(0, 6, 'Hello!'),\n",
       " Substring(7, 19, 'How are you?'),\n",
       " Substring(20, 45, \"I hope you're doing well.\"),\n",
       " Substring(46, 63, 'Have a great day.')]"
      ]
     },
     "execution_count": 50,
     "metadata": {},
     "output_type": "execute_result"
    }
   ],
   "source": [
    "from razdel import sentenize\n",
    "sentences =list(sentenize(text_en))\n",
    "sentences"
   ]
  },
  {
   "cell_type": "code",
   "execution_count": 51,
   "metadata": {},
   "outputs": [
    {
     "data": {
      "text/plain": [
       "[Substring(1, 23, '- \"Так в чем же дело?\"'),\n",
       " Substring(24, 40, '- \"Не ра-ду-ют\".'),\n",
       " Substring(41, 56, 'И т. д. и т. п.'),\n",
       " Substring(57, 76, 'В общем, вся газета')]"
      ]
     },
     "execution_count": 51,
     "metadata": {},
     "output_type": "execute_result"
    }
   ],
   "source": [
    "sentences =list(sentenize(text_ru))\n",
    "sentences"
   ]
  },
  {
   "cell_type": "markdown",
   "metadata": {},
   "source": [
    "<font size=\"12\">Tokenizer</font>"
   ]
  },
  {
   "cell_type": "code",
   "execution_count": 54,
   "metadata": {},
   "outputs": [],
   "source": [
    "text = 'Кружка-термос на 0.5л (50/64 см³, 516;...)'"
   ]
  },
  {
   "cell_type": "code",
   "execution_count": 124,
   "metadata": {},
   "outputs": [],
   "source": []
  },
  {
   "cell_type": "code",
   "execution_count": 55,
   "metadata": {},
   "outputs": [
    {
     "data": {
      "text/plain": [
       "['Кружка-термос', 'на', '0.5л', '(50/64', 'см³,', '516;...)']"
      ]
     },
     "execution_count": 55,
     "metadata": {},
     "output_type": "execute_result"
    }
   ],
   "source": [
    "tokens = text.split()\n",
    "tokens"
   ]
  },
  {
   "cell_type": "code",
   "execution_count": 56,
   "metadata": {},
   "outputs": [
    {
     "data": {
      "text/plain": [
       "['Кружка-термос',\n",
       " 'на',\n",
       " '0.5л',\n",
       " '(',\n",
       " '50/64',\n",
       " 'см³',\n",
       " ',',\n",
       " '516',\n",
       " ';',\n",
       " '...',\n",
       " ')']"
      ]
     },
     "execution_count": 56,
     "metadata": {},
     "output_type": "execute_result"
    }
   ],
   "source": [
    "def nltk_tokenize(text):\n",
    "    words = nltk.word_tokenize(text)\n",
    "    return words\n",
    "nltk_tokenize(text)    "
   ]
  },
  {
   "cell_type": "code",
   "execution_count": 27,
   "metadata": {},
   "outputs": [
    {
     "data": {
      "text/plain": [
       "[Substring(0, 13, 'Кружка-термос'),\n",
       " Substring(14, 16, 'на'),\n",
       " Substring(17, 20, '0.5'),\n",
       " Substring(20, 21, 'л'),\n",
       " Substring(22, 23, '('),\n",
       " Substring(23, 28, '50/64'),\n",
       " Substring(29, 32, 'см³'),\n",
       " Substring(32, 33, ','),\n",
       " Substring(34, 37, '516'),\n",
       " Substring(37, 38, ';'),\n",
       " Substring(38, 41, '...'),\n",
       " Substring(41, 42, ')')]"
      ]
     },
     "execution_count": 27,
     "metadata": {},
     "output_type": "execute_result"
    }
   ],
   "source": [
    "from razdel import tokenize\n",
    "tokens = list(tokenize(text))\n",
    "tokens"
   ]
  },
  {
   "cell_type": "markdown",
   "metadata": {},
   "source": [
    "<font size=\"12\">Convert  emoticons to text</font>"
   ]
  },
  {
   "cell_type": "code",
   "execution_count": 67,
   "metadata": {},
   "outputs": [
    {
     "name": "stdout",
     "output_type": "stream",
     "text": [
      "                             text\n",
      "0  Hello Happy How are you? laugh\n",
      "1            I'm feeling down Sad\n",
      "2         That's hilarious! laugh\n",
      "3        I can't believe it laugh\n",
      "4            This is so sad laugh\n",
      "5            Wink and smile Happy\n"
     ]
    }
   ],
   "source": [
    "import pandas as pd\n",
    "\n",
    "# Sample data\n",
    "data = {\n",
    "    \"text\": [\n",
    "        \"Hello :) How are you? :D\",\n",
    "        \"I'm feeling down :(\",\n",
    "        \"That's hilarious! :D\",\n",
    "        \"I can't believe it laugh-)\",\n",
    "        \"This is so sad laugh-(\",\n",
    "        \";) and smile :)\"\n",
    "    ]\n",
    "}\n",
    "\n",
    "# Create the DataFrame\n",
    "df = pd.DataFrame(data)\n",
    "\n",
    "# Define the replacements\n",
    "replacements = [\n",
    "    (r\"\\:\\)\", \"Happy\"),\n",
    "    (r\"\\:\\-\\)\", \"Happy\"),\n",
    "    (r\"\\:\\-\\}\", \"Happy\"),\n",
    "    (r\"\\;\\-\\}\", \"Happy\"),\n",
    "    (r\"\\:\\-\\>\", \"Happy\"),\n",
    "    (r\"\\;\\-\\)\", \"Happy\"),\n",
    "    (r\"\\;\\)\", \"Wink\"),\n",
    "    (r\"\\:\\-\\(\", \"Sad\"),\n",
    "    (r\"\\:\\(\", \"Sad\"),\n",
    "    (r\"\\:\\-\\|\", \"Sad\"),\n",
    "    (r\"\\;\\-\\(\", \"Sad\"),\n",
    "    (r\"\\;\\-\\<\", \"Sad\"),\n",
    "    (r\"\\|\\-\\{\", \"Sad\"),\n",
    "    (r\"\\:\\D\", \"laugh\"),\n",
    "    (r\"\\:\\'\\-\\)\", \"tear of joy\"),\n",
    "    (r\"\\:\\`\\-\\(\", \"tear of sadness\"),\n",
    "    (r\"laugh-\\)\", \"laugh\"),\n",
    "    (r\"laugh-\\(\", \"laugh\")\n",
    "]\n",
    "\n",
    "# Apply the replacements\n",
    "for pattern, replacement in replacements:\n",
    "    df[\"text\"] = df[\"text\"].str.replace(pattern, replacement, regex=True)\n",
    "\n",
    "# Print the DataFrame\n",
    "print(df)"
   ]
  },
  {
   "cell_type": "markdown",
   "metadata": {},
   "source": [
    "\n",
    "<font size=\"12\">Removing punctuation </font>"
   ]
  },
  {
   "cell_type": "code",
   "execution_count": 69,
   "metadata": {},
   "outputs": [
    {
     "name": "stdout",
     "output_type": "stream",
     "text": [
      "Hello, world! Hows  everything going\n"
     ]
    }
   ],
   "source": [
    "import string\n",
    "\n",
    "# Define the set of punctuation to exclude\n",
    "exclude = set(string.punctuation)\n",
    "\n",
    "# Define the set of punctuation to retain\n",
    "not_exclude = {\".\", \"!\", \",\"}\n",
    "\n",
    "# Determine the final set of punctuation to remove\n",
    "final = exclude - not_exclude\n",
    "\n",
    "def remove_punctuation(text):\n",
    "    return ''.join(char for char in text if char not in final)\n",
    "\n",
    "# Example usage\n",
    "text = \"Hello, world! How's ()& everything going?\"\n",
    "cleaned_text = remove_punctuation(text)\n",
    "print(cleaned_text)"
   ]
  },
  {
   "cell_type": "code",
   "execution_count": null,
   "metadata": {},
   "outputs": [],
   "source": []
  },
  {
   "cell_type": "markdown",
   "metadata": {},
   "source": [
    "<font size=\"12\">Removing stop words</font>"
   ]
  },
  {
   "cell_type": "code",
   "execution_count": 71,
   "metadata": {},
   "outputs": [
    {
     "name": "stderr",
     "output_type": "stream",
     "text": [
      "[nltk_data] Downloading package stopwords to\n",
      "[nltk_data]     /home/sabdenoa/nltk_data...\n",
      "[nltk_data]   Unzipping corpora/stopwords.zip.\n"
     ]
    },
    {
     "data": {
      "text/plain": [
       "True"
      ]
     },
     "execution_count": 71,
     "metadata": {},
     "output_type": "execute_result"
    }
   ],
   "source": [
    "\n",
    "import nltk\n",
    "nltk.download('stopwords')"
   ]
  },
  {
   "cell_type": "code",
   "execution_count": 75,
   "metadata": {},
   "outputs": [],
   "source": [
    "from stop_words import get_stop_words\n",
    "from nltk.corpus import stopwords\n",
    "stop_words_en = list(get_stop_words('en'))        \n",
    "nltk_words_en = list(stopwords.words('english')) \n",
    "stop_words_ru = list(get_stop_words('ru'))         \n",
    "nltk_words_ru = list(stopwords.words('russian')) "
   ]
  },
  {
   "cell_type": "code",
   "execution_count": null,
   "metadata": {},
   "outputs": [],
   "source": [
    "#stop_words_en = set(get_stop_words('en')) | set(stopwords.words('english'))\n",
    "#stop_words_ru = set(get_stop_words('ru')) | set(stopwords.words('russian'))"
   ]
  },
  {
   "cell_type": "code",
   "execution_count": 76,
   "metadata": {},
   "outputs": [],
   "source": [
    "stop_words_en=stop_words_en\n",
    "stop_words_ru=stop_words_ru"
   ]
  },
  {
   "cell_type": "code",
   "execution_count": 78,
   "metadata": {},
   "outputs": [
    {
     "name": "stdout",
     "output_type": "stream",
     "text": [
      "example sentence demonstrate removal stopwords.\n",
      "пример предложения демонстрации удаления стоп-слов.\n"
     ]
    }
   ],
   "source": [
    "def remove_stopwords(text, language='en'):\n",
    "    if language == 'en':\n",
    "        stop_words = stop_words_en\n",
    "    elif language == 'ru':\n",
    "        stop_words = stop_words_ru\n",
    "    else:\n",
    "        raise ValueError(\"Unsupported language. Use 'en' for English or 'ru' for Russian.\")\n",
    "    \n",
    "    return ' '.join(word for word in text.split() if word.lower() not in stop_words)\n",
    "\n",
    "# Example usage\n",
    "english_text = \"This is an example sentence to demonstrate the removal of stopwords.\"\n",
    "russian_text = \"Это пример предложения для демонстрации удаления стоп-слов.\"\n",
    "\n",
    "cleaned_english_text = remove_stopwords(english_text, 'en')\n",
    "print(cleaned_english_text)\n",
    "cleaned_russian_text = remove_stopwords(russian_text, 'ru')\n",
    "print(cleaned_russian_text)"
   ]
  },
  {
   "cell_type": "markdown",
   "metadata": {},
   "source": [
    "<font size=\"12\">Lemmatizer and Stemmer</font>"
   ]
  },
  {
   "cell_type": "code",
   "execution_count": 5,
   "metadata": {},
   "outputs": [],
   "source": [
    "nltk.set_proxy('http://proxy-ws.cbank.kz:8080')"
   ]
  },
  {
   "cell_type": "code",
   "execution_count": 8,
   "metadata": {},
   "outputs": [
    {
     "name": "stderr",
     "output_type": "stream",
     "text": [
      "[nltk_data] Downloading package wordnet to /home/sabdenoa/nltk_data...\n",
      "[nltk_data]   Package wordnet is already up-to-date!\n",
      "[nltk_data] Downloading package omw-1.4 to /home/sabdenoa/nltk_data...\n"
     ]
    },
    {
     "data": {
      "text/plain": [
       "True"
      ]
     },
     "execution_count": 8,
     "metadata": {},
     "output_type": "execute_result"
    }
   ],
   "source": [
    "import nltk\n",
    "nltk.download('wordnet')\n",
    "nltk.download('omw-1.4')"
   ]
  },
  {
   "cell_type": "code",
   "execution_count": 115,
   "metadata": {},
   "outputs": [
    {
     "name": "stdout",
     "output_type": "stream",
     "text": [
      "kites ---> kite\n",
      "babies ---> baby\n",
      "dogs ---> dog\n",
      "flying ---> flying\n",
      "smiling ---> smiling\n",
      "driving ---> driving\n",
      "died ---> died\n",
      "tried ---> tried\n",
      "feet ---> foot\n",
      "running ---> running\n",
      "are ---> are\n"
     ]
    },
    {
     "name": "stderr",
     "output_type": "stream",
     "text": [
      "[nltk_data] Downloading package wordnet to /home/sabdenoa/nltk_data...\n",
      "[nltk_data]   Package wordnet is already up-to-date!\n"
     ]
    }
   ],
   "source": [
    "\n",
    "\n",
    "import nltk\n",
    "nltk.download('wordnet')\n",
    "from nltk.stem import WordNetLemmatizer\n",
    " \n",
    "# Create WordNetLemmatizer object\n",
    "wnl = WordNetLemmatizer()\n",
    " \n",
    "# single word lemmatization examples\n",
    "list1 = ['kites', 'babies', 'dogs', 'flying', 'smiling', \n",
    "         'driving', 'died', 'tried', 'feet', 'running', 'are']\n",
    "for words in list1:\n",
    "    print(words + \" ---> \" + wnl.lemmatize(words))"
   ]
  },
  {
   "cell_type": "code",
   "execution_count": 117,
   "metadata": {},
   "outputs": [
    {
     "data": {
      "text/plain": [
       "'run'"
      ]
     },
     "execution_count": 117,
     "metadata": {},
     "output_type": "execute_result"
    }
   ],
   "source": [
    "import spacy\n",
    "nlp = spacy.load(\"en_core_web_sm\")\n",
    "doc = nlp(\"running\")\n",
    "doc[0].lemma_\n",
    "# for token in doc:\n",
    "#     print(token.text, token.lemma_)"
   ]
  },
  {
   "cell_type": "code",
   "execution_count": 107,
   "metadata": {},
   "outputs": [
    {
     "data": {
      "text/plain": [
       "'run'"
      ]
     },
     "execution_count": 107,
     "metadata": {},
     "output_type": "execute_result"
    }
   ],
   "source": [
    "from nltk.stem import PorterStemmer\n",
    "stemmer = PorterStemmer()\n",
    "stemmer.stem(\"running\")"
   ]
  },
  {
   "cell_type": "code",
   "execution_count": 112,
   "metadata": {},
   "outputs": [
    {
     "name": "stdout",
     "output_type": "stream",
     "text": [
      "Word: running | Stem: run | Lemma: run\n",
      "Word: runs | Stem: run | Lemma: run\n",
      "Word: runner | Stem: runner | Lemma: runner\n",
      "Word: easily | Stem: easili | Lemma: easily\n",
      "Word: fairly | Stem: fairli | Lemma: fairly\n",
      "Word: cats | Stem: cat | Lemma: cat\n",
      "Word: studies | Stem: studi | Lemma: study\n",
      "Word: studying | Stem: studi | Lemma: study\n",
      "Word: better | Stem: better | Lemma: better\n",
      "Word: was | Stem: wa | Lemma: be\n",
      "Word: are | Stem: are | Lemma: be\n"
     ]
    }
   ],
   "source": [
    "import nltk\n",
    "from nltk.stem import PorterStemmer, WordNetLemmatizer\n",
    "\n",
    "\n",
    "# Initialize stemmer and lemmatizer\n",
    "stemmer = PorterStemmer()\n",
    "lemmatizer = WordNetLemmatizer()\n",
    "\n",
    "# Define a list of words to demonstrate the difference\n",
    "words = [\"running\", \"runs\", \"runner\", \"easily\", \"fairly\", \"cats\", \"studies\", \"studying\", \"better\", \"was\", \"are\"]\n",
    "\n",
    "# Apply stemming and lemmatization\n",
    "stems = [stemmer.stem(word) for word in words]\n",
    "lemmas = [lemmatizer.lemmatize(word, pos='v') for word in words]  # Using 'v' for verb to get accurate results for verbs\n",
    "\n",
    "# Display the results\n",
    "for word, stem, lemma in zip(words, stems, lemmas):\n",
    "    print(f\"Word: {word} | Stem: {stem} | Lemma: {lemma}\")"
   ]
  },
  {
   "cell_type": "code",
   "execution_count": 122,
   "metadata": {},
   "outputs": [
    {
     "name": "stdout",
     "output_type": "stream",
     "text": [
      "Word: Красивая | Lemma: красивый | Stem: красив\n",
      "Word: бегающая | Lemma: бегать | Stem: бега\n",
      "Word: мама | Lemma: мама | Stem: мам\n",
      "Word: красиво | Lemma: красиво | Stem: красив\n",
      "Word: мыла | Lemma: мыть | Stem: мыл\n",
      "Word: раму | Lemma: рама | Stem: рам\n",
      "Word: узнав | Lemma: узнавать | Stem: узна\n",
      "Word: правду | Lemma: правда | Stem: правд\n"
     ]
    }
   ],
   "source": [
    "from pymystem3 import Mystem\n",
    "from nltk.stem.snowball import SnowballStemmer\n",
    "import nltk\n",
    "\n",
    "# Initialize the Mystem and SnowballStemmer\n",
    "mystem = Mystem()\n",
    "stemmer = SnowballStemmer(\"russian\")\n",
    "\n",
    "# Input text\n",
    "text = \"Красивая бегающая мама красиво мыла раму узнав правду\"\n",
    "\n",
    "# Perform lemmatization\n",
    "lemmas = mystem.lemmatize(text)\n",
    "lemmas = [lemma.strip() for lemma in lemmas if lemma.strip()]\n",
    "\n",
    "# Perform stemming\n",
    "words = text.split()\n",
    "stems = [stemmer.stem(word) for word in words]\n",
    "\n",
    "# Display the results\n",
    "for word, lemma, stem in zip(words, lemmas, stems):\n",
    "    print(f\"Word: {word} | Lemma: {lemma} | Stem: {stem}\")"
   ]
  },
  {
   "cell_type": "markdown",
   "metadata": {},
   "source": [
    "\n",
    "<font size=\"12\">Home tasks</font>"
   ]
  },
  {
   "cell_type": "markdown",
   "metadata": {},
   "source": [
    "<font size=\"5\">1. This task involves normalizing and cleaning a text where some words are replaced with emoticons or the text is split in an unusual way </font>\n",
    " "
   ]
  },
  {
   "cell_type": "code",
   "execution_count": 128,
   "metadata": {},
   "outputs": [],
   "source": [
    "text = \"\"\"\n",
    "Вчера-был просто супер 😊! Проехал 100/160 км, чтобы встре-титься со своим другом. Эго имяАсхат А.Н. ему24г.Это было невероятно круто!Обсуждали все, от программирования-до политики, 2-3часа иливечность за обедом в суши-баре, ХАХА 😂. Потом посмотрели фильмФОрест Г.в кино и заговорили о трендах на рынке и экономических влияниях.Погода? Началось все с  🌞, но вдруг пошел  🌧️. Перед отъездом зашел в уютное кафе за чашкой ☕, очень уютно.\n",
    "\"\"\""
   ]
  },
  {
   "cell_type": "markdown",
   "metadata": {},
   "source": [
    "<font size=\"5\">2. Simple Token-Based Search Using Lemmatization and Stemming. This task involves creating a simple token-based search using lemmatization and stemming techniques. Below is a Python function template that takes a user's input and returns the most relevant sentence from a set of 50 sentences.</font>\n",
    " "
   ]
  },
  {
   "cell_type": "code",
   "execution_count": 130,
   "metadata": {},
   "outputs": [],
   "source": [
    "banking_sentences = [\n",
    "    \"The bank offers a variety of savings accounts with different interest rates to suit individual needs.\",\n",
    "    \"Customers can easily transfer money between their accounts using the online banking platform.\",\n",
    "    \"Every month, the bank sends out statements detailing all transactions made during the billing cycle.\",\n",
    "    \"Opening a new account at the bank requires a valid ID and proof of address.\",\n",
    "    \"The bank's mobile app allows users to deposit checks by simply taking a photo with their phone.\",\n",
    "    \"Loans for purchasing homes are available with fixed or variable interest rates.\",\n",
    "    \"Credit cards from the bank come with various rewards programs, including cashback and travel points.\",\n",
    "    \"Bank employees are available to help customers understand their financial statements and plan their budgets.\",\n",
    "    \"Savings accounts can be linked to checking accounts to prevent overdraft fees.\",\n",
    "    \"The bank offers financial advice services to help customers plan for retirement.\",\n",
    "    \"Automatic bill payment services help customers avoid missing due dates for important bills.\",\n",
    "    \"Bank branches provide secure safety deposit boxes for storing valuable items.\",\n",
    "    \"Customers can apply for personal loans to cover unexpected expenses or consolidate debt.\",\n",
    "    \"Online banking allows users to set up alerts for low balances or large transactions.\",\n",
    "    \"The bank provides educational resources to help customers understand how to manage their money.\",\n",
    "    \"Customers can choose from a range of investment options, including stocks and bonds.\",\n",
    "    \"The bank has a dedicated customer service line to assist with any account-related issues.\",\n",
    "    \"Mortgage specialists are available to help first-time homebuyers navigate the process.\",\n",
    "    \"The bank's credit monitoring service alerts customers to any changes in their credit reports.\",\n",
    "    \"Customers can easily update their contact information through the bank's online portal.\",\n",
    "    \"The bank's ATM network provides convenient access to cash withdrawals and deposits.\",\n",
    "    \"Foreign currency exchange services are available for customers planning international travel.\",\n",
    "    \"The bank's fraud protection service monitors accounts for suspicious activity.\",\n",
    "    \"Customers can set spending limits on their credit cards to help manage their budgets.\",\n",
    "    \"The bank offers a range of insurance products, including health, auto, and home insurance.\",\n",
    "    \"Users can download and print monthly account statements directly from the bank's website.\",\n",
    "    \"Small business owners can access loans and lines of credit to help grow their businesses.\",\n",
    "    \"The bank provides secure online payment options for shopping on various e-commerce platforms.\",\n",
    "    \"Mobile banking apps allow users to check their account balances on the go.\",\n",
    "    \"The bank's retirement accounts offer tax advantages to help customers save for the future.\",\n",
    "    \"Financial advisors at the bank can help customers develop long-term investment strategies.\",\n",
    "    \"The bank offers low-interest loans for education and other major life expenses.\",\n",
    "    \"Customers can make international money transfers at competitive exchange rates.\",\n",
    "    \"The bank's secure online platform protects customers' personal and financial information.\",\n",
    "    \"Home equity lines of credit are available for homeowners needing access to cash.\",\n",
    "    \"The bank offers fixed-term deposits with higher interest rates for long-term savings.\",\n",
    "    \"Customers can access their account information 24/7 through the bank's mobile app.\",\n",
    "    \"The bank's customer loyalty programs offer benefits such as reduced fees and higher interest rates.\",\n",
    "    \"Parents can open savings accounts for their children to teach them about money management.\",\n",
    "    \"The bank's budgeting tools help customers track their spending and set financial goals.\",\n",
    "    \"Customers can sign up for direct deposit to have their paychecks automatically deposited.\",\n",
    "    \"The bank offers special accounts for students with no monthly fees and low minimum balances.\",\n",
    "    \"Users can schedule future payments and transfers using the bank's online banking services.\",\n",
    "    \"The bank's investment products include mutual funds and retirement accounts.\",\n",
    "    \"Customers can access financial planning services to help manage their assets and liabilities.\",\n",
    "    \"The bank provides loan calculators to help customers estimate their monthly payments.\",\n",
    "    \"Secure messaging through the bank's online platform allows customers to communicate with their advisors.\",\n",
    "    \"The bank's mobile check deposit feature makes it easy to deposit checks without visiting a branch.\",\n",
    "    \"Customers can earn rewards points for every dollar spent on their credit cards.\",\n",
    "    \"The bank offers personal finance workshops to educate customers on budgeting and saving.\",\n",
    "    \"Customers can track their spending habits using the bank's online expense tracking tools.\",\n",
    "    \"Банк предлагает разнообразные сберегательные счета с разными процентными ставками, чтобы удовлетворить индивидуальные потребности.\",\n",
    "    \"Клиенты могут легко переводить деньги между своими счетами с помощью платформы интернет-банкинга.\",\n",
    "    \"Каждый месяц банк высылает выписки с подробным описанием всех транзакций за отчетный период.\",\n",
    "    \"Открытие нового счета в банке требует действующего удостоверения личности и подтверждения адреса.\",\n",
    "    \"Мобильное приложение банка позволяет пользователям вносить чеки, просто фотографируя их на телефон.\",\n",
    "    \"Кредиты на покупку домов доступны с фиксированными или переменными процентными ставками.\",\n",
    "    \"Кредитные карты банка предлагают различные программы вознаграждений, включая кэшбэк и бонусные баллы для путешествий.\",\n",
    "    \"Сотрудники банка готовы помочь клиентам понять свои финансовые выписки и планировать бюджет.\",\n",
    "    \"Сберегательные счета могут быть связаны с текущими счетами, чтобы предотвратить комиссии за перерасход.\",\n",
    "    \"Банк предлагает услуги финансового консультирования, чтобы помочь клиентам планировать выход на пенсию.\",\n",
    "    \"Услуги автоматической оплаты счетов помогают клиентам избежать пропуска сроков оплаты важных счетов.\",\n",
    "    \"Отделения банка предоставляют безопасные ячейки для хранения ценных вещей.\",\n",
    "    \"Клиенты могут подать заявку на личные кредиты для покрытия непредвиденных расходов или консолидации долгов.\",\n",
    "    \"Интернет-банкинг позволяет пользователям устанавливать уведомления о низких остатках или крупных транзакциях.\",\n",
    "    \"Банк предоставляет образовательные ресурсы, чтобы помочь клиентам понять, как управлять своими деньгами.\",\n",
    "    \"Клиенты могут выбирать из множества инвестиционных опций, включая акции и облигации.\",\n",
    "    \"У банка есть выделенная линия обслуживания клиентов для помощи в любых вопросах, связанных со счетами.\",\n",
    "    \"Специалисты по ипотеке готовы помочь покупателям впервые купить жилье пройти этот процесс.\",\n",
    "    \"Служба мониторинга кредитов банка уведомляет клиентов о любых изменениях в их кредитных отчетах.\",\n",
    "    \"Клиенты могут легко обновить свою контактную информацию через онлайн-портал банка.\",\n",
    "    \"Сеть банкоматов банка обеспечивает удобный доступ к снятию и внесению наличных.\",\n",
    "    \"Услуги обмена иностранной валюты доступны для клиентов, планирующих международные поездки.\",\n",
    "    \"Служба защиты от мошенничества банка отслеживает счета на предмет подозрительной активности.\",\n",
    "    \"Клиенты могут устанавливать лимиты расходов по своим кредитным картам, чтобы помочь управлять бюджетом.\",\n",
    "    \"Банк предлагает разнообразные страховые продукты, включая медицинское, автомобильное и жилищное страхование.\",\n",
    "    \"Пользователи могут загружать и печатать ежемесячные выписки по счетам прямо с сайта банка.\",\n",
    "    \"Малые предприятия могут получить доступ к кредитам и кредитным линиям для роста своих бизнесов.\",\n",
    "    \"Банк предоставляет безопасные онлайн-опции оплаты для покупок на различных платформах электронной коммерции.\",\n",
    "    \"Мобильные банковские приложения позволяют пользователям проверять свои балансы счетов на ходу.\",\n",
    "    \"Пенсионные счета банка предлагают налоговые преимущества, чтобы помочь клиентам сэкономить на будущее.\",\n",
    "    \"Финансовые консультанты банка могут помочь клиентам разработать долгосрочные инвестиционные стратегии.\",\n",
    "    \"Банк предлагает кредиты с низкими процентными ставками для образования и других крупных жизненных расходов.\",\n",
    "    \"Клиенты могут осуществлять международные денежные переводы по конкурентным обменным курсам.\",\n",
    "    \"Безопасная онлайн-платформа банка защищает личную и финансовую информацию клиентов.\",\n",
    "    \"Кредитные линии под залог дома доступны для владельцев домов, нуждающихся в доступе к наличным.\",\n",
    "    \"Банк предлагает депозиты с фиксированным сроком с более высокими процентными ставками для долгосрочных сбережений.\",\n",
    "    \"Клиенты могут получать доступ к информации по счету круглосуточно через мобильное приложение банка.\",\n",
    "    \"Программы лояльности клиентов банка предлагают такие преимущества, как сниженные комиссии и повышенные процентные ставки.\",\n",
    "    \"Родители могут открыть сберегательные счета для своих детей, чтобы научить их управлению деньгами.\",\n",
    "    \"Инструменты составления бюджета банка помогают клиентам отслеживать свои расходы и устанавливать финансовые цели.\",\n",
    "    \"Клиенты могут зарегистрироваться для прямого депозита, чтобы их зарплаты автоматически зачислялись на счет.\",\n",
    "    \"Банк предлагает специальные счета для студентов без ежемесячных комиссий и с низкими минимальными остатками.\",\n",
    "    \"Пользователи могут планировать будущие платежи и переводы, используя услуги интернет-банкинга банка.\",\n",
    "    \"Инвестиционные продукты банка включают взаимные фонды и пенсионные счета.\",\n",
    "    \"Клиенты могут получить доступ к услугам финансового планирования для управления своими активами и обязательствами.\",\n",
    "    \"Банк предоставляет кредитные калькуляторы, чтобы помочь клиентам оценить их ежемесячные платежи.\",\n",
    "    \"Безопасное обмен сообщениями через онлайн-платформу банка позволяет клиентам общаться со своими консультантами.\",\n",
    "    \"Функция мобильного депозита чеков банка позволяет легко вносить чеки без посещения отделения.\",\n",
    "    \"Клиенты могут зарабатывать баллы за вознаграждение за каждый потраченный доллар на своих кредитных картах.\",\n",
    "    \"Банк предлагает семинары по личным финансам, чтобы обучить клиентов составлению бюджета и сбережениям.\",\n",
    "    \"Клиенты могут отслеживать свои привычки трат с помощью онлайн-инструментов отслеживания расходов банка.\"\n",
    "]\n"
   ]
  },
  {
   "cell_type": "code",
   "execution_count": 136,
   "metadata": {},
   "outputs": [
    {
     "name": "stdout",
     "output_type": "stream",
     "text": [
      "None\n"
     ]
    }
   ],
   "source": [
    "\n",
    "def preprocess(text):\n",
    "    return tokens \n",
    "\n",
    "def search(query):\n",
    "    #score = words query exist in database token set.\n",
    "    return #sentence , score\n",
    "\n",
    "# Example usage\n",
    "user_query = \"Type your text here\"\n",
    "print(search(user_query))"
   ]
  },
  {
   "cell_type": "markdown",
   "metadata": {},
   "source": [
    "<font size=\"5\">3. Text Cleaning by Removing Blacklist Words or Phrases</font>\n",
    " "
   ]
  },
  {
   "cell_type": "code",
   "execution_count": 141,
   "metadata": {},
   "outputs": [
    {
     "name": "stdout",
     "output_type": "stream",
     "text": [
      "Here is a sample text including the word *** is *** and *** and *** ***.\n"
     ]
    }
   ],
   "source": [
    "def clean_text(text):\n",
    "    blacklist = ['nigga', 'fucking', 'гей', 'урод', 'Путин', 'Токаев Тигр']\n",
    "    for word in blacklist:\n",
    "        text = text.replace(word, '***')\n",
    "    return text\n",
    "\n",
    "# Example usage\n",
    "sample_text = \"Путин Here is a sample text including the word is nigga and все fucking красивые люди and Токаев Тигр.\"\n",
    "print(clean_text(sample_text))"
   ]
  },
  {
   "cell_type": "code",
   "execution_count": null,
   "metadata": {},
   "outputs": [],
   "source": []
  }
 ],
 "metadata": {
  "kernelspec": {
   "display_name": "TEST ENVIRONMENT",
   "language": "python",
   "name": "test_project"
  },
  "language_info": {
   "codemirror_mode": {
    "name": "ipython",
    "version": 3
   },
   "file_extension": ".py",
   "mimetype": "text/x-python",
   "name": "python",
   "nbconvert_exporter": "python",
   "pygments_lexer": "ipython3",
   "version": "3.11.7"
  }
 },
 "nbformat": 4,
 "nbformat_minor": 5
}
